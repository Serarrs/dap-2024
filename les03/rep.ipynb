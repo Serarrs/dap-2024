{
  "nbformat": 4,
  "nbformat_minor": 0,
  "metadata": {
    "colab": {
      "provenance": [],
      "authorship_tag": "ABX9TyMNPAB6813EMREvQEWPqySG",
      "include_colab_link": true
    },
    "kernelspec": {
      "name": "python3",
      "display_name": "Python 3"
    },
    "language_info": {
      "name": "python"
    }
  },
  "cells": [
    {
      "cell_type": "markdown",
      "metadata": {
        "id": "view-in-github",
        "colab_type": "text"
      },
      "source": [
        "<a href=\"https://colab.research.google.com/github/Serarrs/dap-2024/blob/main/les03/rep.ipynb\" target=\"_parent\"><img src=\"https://colab.research.google.com/assets/colab-badge.svg\" alt=\"Open In Colab\"/></a>"
      ]
    },
    {
      "cell_type": "markdown",
      "source": [],
      "metadata": {
        "id": "QooWcWDq46PK"
      }
    },
    {
      "cell_type": "markdown",
      "source": [
        "<div align=\"center\">\n",
        "\n",
        "ФЕДЕРАЛЬНОЕ ГОСУДАРСТВЕННОЕ АВТОНОМНОЕ ОБРАЗОВАТЕЛЬНОЕ УЧРЕЖДЕНИЕ ВЫСШЕГО ОБРАЗОВАНИЯ\n",
        "<br>\n",
        "**«БЕЛГОРОДСКИЙ ГОСУДАРСТВЕННЫЙ НАЦИОНАЛЬНЫЙ\n",
        "ИССЛЕДОВАТЕЛЬСКИЙ УНИВЕРСИТЕТ»\n",
        "<br>\n",
        "(НИУ «БелГУ»)**\n",
        "<br><br>\n",
        "ИНСТИТУТ ИНЖЕНЕРНЫХ И ЦИФРОВЫХ ТЕХНОЛОГИЙ\n",
        "<br><br>\n",
        "**Кафедра информационных и робототехнических систем**\n",
        "<br><br><br><br>\n",
        "**ОТЧЕТ**\n",
        "<br>\n",
        "по лабораторной работе №3\n",
        "<br>\n",
        "на тему: «NumPy»\n",
        "<br>\n",
        "по дисциплине\n",
        "<br>\n",
        "«Анализ данных на Python»\n",
        "<br>\n",
        "студента очной формы обучения\n",
        "<br>\n",
        "направления подготовки\n",
        "<br><br><br>\n",
        "09.03.02 – Информационные системы и технологии\n",
        "<br>\n",
        "3 курса группы 12002208\n",
        "<br>\n",
        "Кузьмина Анатолия Витальевича\n",
        "\n",
        "<br><br><br><br><div>\n",
        "<div align=\"right\">\n",
        "\n",
        "Проверил:\n",
        "<br>\n",
        "ДВОПУ\n",
        "<br>\n",
        "Чеботарев С. А.\n",
        "<div><br><br><br>\n",
        "<div align=\"center\">\n",
        "\n",
        "Белгород 2025\n",
        "<div>\n",
        "___________\n",
        "\n",
        "<div align=\"center\">\n",
        "\n",
        "<br>Ход работы<br>"
      ],
      "metadata": {
        "id": "4jOSVi9M7chw"
      }
    },
    {
      "cell_type": "markdown",
      "source": [
        "Задача №1. Создать массив 10x10 со случайными значениями, найти минимум и максимум (низкая)"
      ],
      "metadata": {
        "id": "cMiAiEhLRn8u"
      }
    },
    {
      "cell_type": "code",
      "source": [
        "import numpy as np\n",
        "array = np.random.randint(0,101, size=(10, 10))\n",
        "print(\"Массив 10x10:\")\n",
        "print(array)\n",
        "min_value = np.min(array)\n",
        "max_value = np.max(array)\n",
        "print(\"\\nМинимальное значение:\", min_value)\n",
        "print(\"Максимальное значение:\", max_value)"
      ],
      "metadata": {
        "id": "D2qegxA4RidM",
        "colab": {
          "base_uri": "https://localhost:8080/"
        },
        "outputId": "2035fe64-5115-4388-c94f-7973b0026718"
      },
      "execution_count": 6,
      "outputs": [
        {
          "output_type": "stream",
          "name": "stdout",
          "text": [
            "Массив 10x10:\n",
            "[[  7  52  87   8  65  65  48  14  46  98]\n",
            " [  3  66  31  62  99  72  95  76  26  89]\n",
            " [ 90  79  71  60  67  65  64  53  45  11]\n",
            " [ 90  18   3  54  69   2 100 100  53  30]\n",
            " [ 65  54  28  90  19  80  16  15  31  47]\n",
            " [ 24  86  41  53  97  93  13  64  53  37]\n",
            " [  0  32  86  80  95  51  80  57  65  91]\n",
            " [ 75   4  19  97   5  93  60  79  26  52]\n",
            " [ 35  53  93  82  81  56   5  92  73  72]\n",
            " [ 57  44  57  17  86  12  22  50  69  56]]\n",
            "\n",
            "Минимальное значение: 0\n",
            "Максимальное значение: 100\n"
          ]
        }
      ]
    },
    {
      "cell_type": "markdown",
      "source": [
        "Задача №2. Создать 8x8 матрицу и заполнить её единицами и нулями в шахматном порядке"
      ],
      "metadata": {
        "id": "d35fT2W_Rmwc"
      }
    },
    {
      "cell_type": "code",
      "source": [
        "import numpy as np\n",
        "chessboard = np.zeros((8, 8), dtype=int)\n",
        "chessboard[1::2, ::2] = 1\n",
        "chessboard[::2, 1::2] = 1\n",
        "print(chessboard)"
      ],
      "metadata": {
        "id": "1TxeyvkARk3R",
        "colab": {
          "base_uri": "https://localhost:8080/"
        },
        "outputId": "5492fb8b-cee5-4680-c771-c8f72a9119e8"
      },
      "execution_count": 7,
      "outputs": [
        {
          "output_type": "stream",
          "name": "stdout",
          "text": [
            "[[0 1 0 1 0 1 0 1]\n",
            " [1 0 1 0 1 0 1 0]\n",
            " [0 1 0 1 0 1 0 1]\n",
            " [1 0 1 0 1 0 1 0]\n",
            " [0 1 0 1 0 1 0 1]\n",
            " [1 0 1 0 1 0 1 0]\n",
            " [0 1 0 1 0 1 0 1]\n",
            " [1 0 1 0 1 0 1 0]]\n"
          ]
        }
      ]
    },
    {
      "cell_type": "markdown",
      "source": [
        "Задача №3. Дан массив из 11 элементов, поменять знак у элементов, значения которых между 3 и 8"
      ],
      "metadata": {
        "id": "ShFcdpVKRo19"
      }
    },
    {
      "cell_type": "code",
      "source": [
        "import numpy as np\n",
        "arr = np.random.randint(-10, 11, size=11)\n",
        "print(\"Исходный массив:\")\n",
        "print(arr)\n",
        "mask = (arr > 3) & (arr < 8)\n",
        "arr[mask] = -arr[mask]\n",
        "print(\"\\nМассив после замены знака (для значений между 3 и 8):\")\n",
        "print(arr)"
      ],
      "metadata": {
        "id": "gEjjdkzBRlJg",
        "colab": {
          "base_uri": "https://localhost:8080/"
        },
        "outputId": "463d2a41-9118-40b6-95a1-068e526bd7d7"
      },
      "execution_count": 8,
      "outputs": [
        {
          "output_type": "stream",
          "name": "stdout",
          "text": [
            "Исходный массив:\n",
            "[ 7  0  7  8  1  7 -5 -6  4 -6 -1]\n",
            "\n",
            "Массив после замены знака (для значений между 3 и 8):\n",
            "[-7  0 -7  8  1 -7 -5 -6 -4 -6 -1]\n"
          ]
        }
      ]
    },
    {
      "cell_type": "markdown",
      "source": [
        "Задача №4. Найти среднее заначение строки матрицы и вычесть его из каждого елемента строки"
      ],
      "metadata": {
        "id": "2cs-JDL_RpQ9"
      }
    },
    {
      "cell_type": "code",
      "source": [
        "import numpy as np\n",
        "matrix = np.random.randint(0, 11, size=(4, 5))\n",
        "print(\"Исходная матрица:\")\n",
        "print(matrix)\n",
        "row_means = matrix.mean(axis=1, keepdims=True)\n",
        "result = matrix - row_means\n",
        "print(\"\\nРезультат (из каждого элемента строки вычтено среднее этой строки):\")\n",
        "print(result)"
      ],
      "metadata": {
        "id": "H3P1fvv4RlUl",
        "colab": {
          "base_uri": "https://localhost:8080/"
        },
        "outputId": "7a71b766-2b6c-4c42-d0bf-50d7b9949624"
      },
      "execution_count": 9,
      "outputs": [
        {
          "output_type": "stream",
          "name": "stdout",
          "text": [
            "Исходная матрица:\n",
            "[[ 5  8  2  2 10]\n",
            " [10  7 10 10 10]\n",
            " [ 4  1  9  5  8]\n",
            " [ 6 10  8  4  4]]\n",
            "\n",
            "Результат (из каждого элемента строки вычтено среднее этой строки):\n",
            "[[-0.4  2.6 -3.4 -3.4  4.6]\n",
            " [ 0.6 -2.4  0.6  0.6  0.6]\n",
            " [-1.4 -4.4  3.6 -0.4  2.6]\n",
            " [-0.4  3.6  1.6 -2.4 -2.4]]\n"
          ]
        }
      ]
    },
    {
      "cell_type": "markdown",
      "source": [
        "Задача №5. Поменяйте 1 и 2 строки матрицы"
      ],
      "metadata": {
        "id": "VAb3rz-YR5Wy"
      }
    },
    {
      "cell_type": "code",
      "source": [
        "import numpy as np\n",
        "matrix = np.random.randint(0, 10, size=(4, 4))\n",
        "print(\"Исходная матрица:\")\n",
        "print(matrix)\n",
        "matrix[[0, 1]] = matrix[[1, 0]]\n",
        "\n",
        "print(\"\\nМатрица после обмена 1 и 2 строк:\")\n",
        "print(matrix)\n"
      ],
      "metadata": {
        "id": "7hwgBuJYR55D",
        "colab": {
          "base_uri": "https://localhost:8080/"
        },
        "outputId": "c6bec7be-01ac-4c81-e405-b6b6b231946d"
      },
      "execution_count": 10,
      "outputs": [
        {
          "output_type": "stream",
          "name": "stdout",
          "text": [
            "Исходная матрица:\n",
            "[[7 3 6 7]\n",
            " [1 7 8 2]\n",
            " [1 7 1 4]\n",
            " [0 0 6 8]]\n",
            "\n",
            "Матрица после обмена 1 и 2 строк:\n",
            "[[1 7 8 2]\n",
            " [7 3 6 7]\n",
            " [1 7 1 4]\n",
            " [0 0 6 8]]\n"
          ]
        }
      ]
    },
    {
      "cell_type": "markdown",
      "source": [
        "Задача №6. Дан массив 10x2 подеставлющий собой точки в декартовой системе координат, преобразовать в полярную"
      ],
      "metadata": {
        "id": "TKk2Uwv0R6Y5"
      }
    },
    {
      "cell_type": "code",
      "source": [
        "import numpy as np\n",
        "points = np.random.randint(-10, 11, size=(10, 2))\n",
        "print(\"Декартовы координаты (x, y):\")\n",
        "print(points)\n",
        "x = points[:, 0]\n",
        "y = points[:, 1]\n",
        "\n",
        "r = np.sqrt(x**2 + y**2)\n",
        "theta = np.arctan2(y, x)\n",
        "polar_points = np.column_stack((r, theta))\n",
        "\n",
        "print(\"\\nПолярные координаты (r, θ):\")\n",
        "print(polar_points)"
      ],
      "metadata": {
        "id": "nGQWgEiRR684",
        "colab": {
          "base_uri": "https://localhost:8080/"
        },
        "outputId": "28376e27-6483-4a94-ab71-951254ef728a"
      },
      "execution_count": 11,
      "outputs": [
        {
          "output_type": "stream",
          "name": "stdout",
          "text": [
            "Декартовы координаты (x, y):\n",
            "[[  3  10]\n",
            " [  5  -1]\n",
            " [ -7 -10]\n",
            " [  0   9]\n",
            " [ -6   8]\n",
            " [ -5   7]\n",
            " [ -2  -3]\n",
            " [ -4   8]\n",
            " [ -1  -4]\n",
            " [ -3   1]]\n",
            "\n",
            "Полярные координаты (r, θ):\n",
            "[[10.44030651  1.27933953]\n",
            " [ 5.09901951 -0.19739556]\n",
            " [12.20655562 -2.18152229]\n",
            " [ 9.          1.57079633]\n",
            " [10.          2.21429744]\n",
            " [ 8.60232527  2.19104581]\n",
            " [ 3.60555128 -2.15879893]\n",
            " [ 8.94427191  2.03444394]\n",
            " [ 4.12310563 -1.81577499]\n",
            " [ 3.16227766  2.8198421 ]]\n"
          ]
        }
      ]
    },
    {
      "cell_type": "markdown",
      "source": [
        "Задача №7. Заменить максимальный элемент массива на ноль"
      ],
      "metadata": {
        "id": "jYkRNRPujWuT"
      }
    },
    {
      "cell_type": "code",
      "source": [
        "import numpy as np\n",
        "arr = np.random.randint(0, 21, size=15)\n",
        "print(\"Исходный массив:\")\n",
        "print(arr)\n",
        "max_index = np.argmax(arr)\n",
        "arr[max_index] = 0\n",
        "print(\"\\nМассив после замены максимального элемента на 0:\")\n",
        "print(arr)"
      ],
      "metadata": {
        "colab": {
          "base_uri": "https://localhost:8080/"
        },
        "id": "V2MRyBAKjatJ",
        "outputId": "e10de40f-a345-439b-b79f-f47500d874c6"
      },
      "execution_count": 15,
      "outputs": [
        {
          "output_type": "stream",
          "name": "stdout",
          "text": [
            "Исходный массив:\n",
            "[19 17  3 12  4 14 10  3 11 16 12 14 19  6 19]\n",
            "\n",
            "Массив после замены максимального элемента на 0:\n",
            "[ 0 17  3 12  4 14 10  3 11 16 12 14 19  6 19]\n"
          ]
        }
      ]
    },
    {
      "cell_type": "markdown",
      "source": [
        "Задача №8. Дан массив, добавить 1 к каждому элементу с индексом, заданным в другом массиве. Добавление производиться только 1 раз"
      ],
      "metadata": {
        "id": "nJTLwgypjbIg"
      }
    },
    {
      "cell_type": "code",
      "source": [
        "import numpy as np\n",
        "arr = np.random.randint(0, 10, size=10)\n",
        "print(\"Исходный массив:\")\n",
        "print(arr)\n",
        "indices = np.random.randint(0, 10, size=6)\n",
        "print(\"\\nИндексы, по которым нужно прибавить 1 (с повторами):\")\n",
        "print(indices)\n",
        "unique_indices = np.unique(indices)\n",
        "arr[unique_indices] += 1\n",
        "print(\"\\nМассив после прибавления 1 по уникальным индексам:\")\n",
        "print(arr)"
      ],
      "metadata": {
        "colab": {
          "base_uri": "https://localhost:8080/"
        },
        "id": "cJtEcnsyjfaC",
        "outputId": "e131b775-8eaf-4dec-8f1e-d241baf12cdb"
      },
      "execution_count": 16,
      "outputs": [
        {
          "output_type": "stream",
          "name": "stdout",
          "text": [
            "Исходный массив:\n",
            "[9 3 0 0 4 0 9 0 2 5]\n",
            "\n",
            "Индексы, по которым нужно прибавить 1 (с повторами):\n",
            "[0 9 4 6 6 0]\n",
            "\n",
            "Массив после прибавления 1 по уникальным индексам:\n",
            "[10  3  0  0  5  0 10  0  2  6]\n"
          ]
        }
      ]
    },
    {
      "cell_type": "markdown",
      "source": [
        "Задача №9. Дан вектор [1, 2, 3, 4, 5], построить новый вектор с тремя нулями между каждым значением"
      ],
      "metadata": {
        "id": "oa6LWJRvjfzv"
      }
    },
    {
      "cell_type": "code",
      "source": [
        "import numpy as np\n",
        "vector = np.array([1, 2, 3, 4, 5])\n",
        "print(\"Исходный вектор:\")\n",
        "print(vector)\n",
        "new_vector = np.zeros(4 * len(vector) - 1, dtype=int)\n",
        "new_vector[::4] = vector\n",
        "print(\"\\nНовый вектор с тремя нулями между каждым значением:\")\n",
        "print(new_vector)"
      ],
      "metadata": {
        "colab": {
          "base_uri": "https://localhost:8080/"
        },
        "id": "R3MWtYpejk_A",
        "outputId": "ac72a1db-d6e5-41d1-e4ec-2765ec98bcda"
      },
      "execution_count": 17,
      "outputs": [
        {
          "output_type": "stream",
          "name": "stdout",
          "text": [
            "Исходный вектор:\n",
            "[1 2 3 4 5]\n",
            "\n",
            "Новый вектор с тремя нулями между каждым значением:\n",
            "[1 0 0 0 2 0 0 0 3 0 0 0 4 0 0 0 5 0 0]\n"
          ]
        }
      ]
    },
    {
      "cell_type": "markdown",
      "source": [
        "Задача №10. Найти ближайшее к заданному значению число в заданном массиве"
      ],
      "metadata": {
        "id": "da0Z8XZ7jlSn"
      }
    },
    {
      "cell_type": "code",
      "source": [
        "import numpy as np\n",
        "arr = np.random.randint(0, 100, size=10)\n",
        "print(\"Массив:\")\n",
        "print(arr)\n",
        "target = 50\n",
        "print(\"\\nЗаданное значение:\", target)\n",
        "closest_value = arr[np.abs(arr - target).argmin()]\n",
        "print(\"\\nБлижайшее значение в массиве:\", closest_value)"
      ],
      "metadata": {
        "colab": {
          "base_uri": "https://localhost:8080/"
        },
        "id": "bU6617UgjoOm",
        "outputId": "b16a7eda-4da4-47ed-8c89-0bed64a34f91"
      },
      "execution_count": 18,
      "outputs": [
        {
          "output_type": "stream",
          "name": "stdout",
          "text": [
            "Массив:\n",
            "[37 82 35 58 16 16  7  2 98 51]\n",
            "\n",
            "Заданное значение: 50\n",
            "\n",
            "Ближайшее значение в массиве: 51\n"
          ]
        }
      ]
    }
  ]
}