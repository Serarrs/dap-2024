{
  "nbformat": 4,
  "nbformat_minor": 0,
  "metadata": {
    "colab": {
      "provenance": [],
      "authorship_tag": "ABX9TyMhBB/717rK+b/0W0N51uOV",
      "include_colab_link": true
    },
    "kernelspec": {
      "name": "python3",
      "display_name": "Python 3"
    },
    "language_info": {
      "name": "python"
    }
  },
  "cells": [
    {
      "cell_type": "markdown",
      "metadata": {
        "id": "view-in-github",
        "colab_type": "text"
      },
      "source": [
        "<a href=\"https://colab.research.google.com/github/Serarrs/dap-2024/blob/main/les02/rep.ipynb\" target=\"_parent\"><img src=\"https://colab.research.google.com/assets/colab-badge.svg\" alt=\"Open In Colab\"/></a>"
      ]
    },
    {
      "cell_type": "markdown",
      "source": [],
      "metadata": {
        "id": "QooWcWDq46PK"
      }
    },
    {
      "cell_type": "markdown",
      "source": [
        "<div align=\"center\">\n",
        "\n",
        "ФЕДЕРАЛЬНОЕ ГОСУДАРСТВЕННОЕ АВТОНОМНОЕ ОБРАЗОВАТЕЛЬНОЕ УЧРЕЖДЕНИЕ ВЫСШЕГО ОБРАЗОВАНИЯ\n",
        "<br>\n",
        "**«БЕЛГОРОДСКИЙ ГОСУДАРСТВЕННЫЙ НАЦИОНАЛЬНЫЙ\n",
        "ИССЛЕДОВАТЕЛЬСКИЙ УНИВЕРСИТЕТ»\n",
        "<br>\n",
        "(НИУ «БелГУ»)**\n",
        "<br><br>\n",
        "ИНСТИТУТ ИНЖЕНЕРНЫХ И ЦИФРОВЫХ ТЕХНОЛОГИЙ\n",
        "<br><br>\n",
        "**Кафедра информационных и робототехнических систем**\n",
        "<br><br><br><br>\n",
        "**ОТЧЕТ**\n",
        "<br>\n",
        "по лабораторной работе №2\n",
        "<br>\n",
        "на тему: «Основы Python»\n",
        "<br>\n",
        "по дисциплине\n",
        "<br>\n",
        "«Анализ данных на Python»\n",
        "<br>\n",
        "студента очной формы обучения\n",
        "<br>\n",
        "направления подготовки\n",
        "<br><br><br>\n",
        "09.03.02 – Информационные системы и технологии\n",
        "<br>\n",
        "3 курса группы 12002208\n",
        "<br>\n",
        "Кузьмина Анатолия Витальевича\n",
        "\n",
        "<br><br><br><br><div>\n",
        "<div align=\"right\">\n",
        "\n",
        "Проверил:\n",
        "<br>\n",
        "ДВОПУ\n",
        "<br>\n",
        "Чеботарев С. А.\n",
        "<div><br><br><br>\n",
        "<div align=\"center\">\n",
        "\n",
        "Белгород 2025\n",
        "<div>\n",
        "___________\n",
        "<div align=\"left\">\n",
        "\n",
        "Цель работы: изучить основы Python.<br>\n",
        "<div align=\"center\">\n",
        "\n",
        "<br>Ход работы<br>"
      ],
      "metadata": {
        "id": "4jOSVi9M7chw"
      }
    },
    {
      "cell_type": "markdown",
      "source": [
        "Задача №1. https://leetcode.com/problems/two-sum/"
      ],
      "metadata": {
        "id": "cMiAiEhLRn8u"
      }
    },
    {
      "cell_type": "code",
      "source": [
        "class Solution(object):\n",
        "    def twoSum(self, nums, target):\n",
        "        \"\"\"\n",
        "        :type nums: List[int]\n",
        "        :type target: int\n",
        "        :rtype: List[int]\n",
        "        \"\"\"\n",
        "        num_to_index={}\n",
        "        for i, num in enumerate(nums):\n",
        "            comlement=target-num\n",
        "            if comlement in num_to_index:\n",
        "                return[num_to_index[comlement],i]\n",
        "            num_to_index[num]=i\n",
        "        return[]"
      ],
      "metadata": {
        "id": "D2qegxA4RidM"
      },
      "execution_count": null,
      "outputs": []
    },
    {
      "cell_type": "markdown",
      "source": [
        "Задача №2. https://leetcode.com/problems/palindrome-number/description/"
      ],
      "metadata": {
        "id": "d35fT2W_Rmwc"
      }
    },
    {
      "cell_type": "code",
      "source": [
        "class Solution(object):\n",
        "    def isPalindrome(self, x):\n",
        "        \"\"\"\n",
        "        :type x: int\n",
        "        :rtype: bool\n",
        "        \"\"\"\n",
        "        if x < 0:\n",
        "            return False\n",
        "        return str(x) == str(x)[::-1]"
      ],
      "metadata": {
        "id": "1TxeyvkARk3R"
      },
      "execution_count": null,
      "outputs": []
    },
    {
      "cell_type": "markdown",
      "source": [
        "Задача №3. https://leetcode.com/problems/roman-to-integer/description/"
      ],
      "metadata": {
        "id": "ShFcdpVKRo19"
      }
    },
    {
      "cell_type": "code",
      "source": [
        "class Solution(object):\n",
        "    def romanToInt(self, s):\n",
        "        \"\"\"\n",
        "        :type s: str\n",
        "        :rtype: int\n",
        "        \"\"\"\n",
        "        roman = {\n",
        "            'I': 1,\n",
        "            'V': 5,\n",
        "            'X': 10,\n",
        "            'L': 50,\n",
        "            'C': 100,\n",
        "            'D': 500,\n",
        "            'M': 1000\n",
        "        }\n",
        "        total = 0\n",
        "        prev_value = 0\n",
        "        for char in reversed(s):\n",
        "            value = roman[char]\n",
        "            if value < prev_value:\n",
        "                total -= value\n",
        "            else:\n",
        "                total += value\n",
        "            prev_value = value\n",
        "        return total"
      ],
      "metadata": {
        "id": "gEjjdkzBRlJg"
      },
      "execution_count": null,
      "outputs": []
    },
    {
      "cell_type": "markdown",
      "source": [
        "Задача №4. https://leetcode.com/problems/longest-common-prefix/description/"
      ],
      "metadata": {
        "id": "2cs-JDL_RpQ9"
      }
    },
    {
      "cell_type": "code",
      "source": [
        "class Solution(object):\n",
        "    def longestCommonPrefix(self, strs):\n",
        "        \"\"\"\n",
        "        :type strs: List[str]\n",
        "        :rtype: str\n",
        "        \"\"\"\n",
        "        if not strs:\n",
        "            return \"\"\n",
        "        prefix = strs[0]\n",
        "        for s in strs[1:]:\n",
        "            while not s.startswith(prefix):\n",
        "                prefix = prefix[:-1]\n",
        "                if not prefix:\n",
        "                    return \"\"\n",
        "\n",
        "        return prefix"
      ],
      "metadata": {
        "id": "H3P1fvv4RlUl"
      },
      "execution_count": null,
      "outputs": []
    },
    {
      "cell_type": "markdown",
      "source": [
        "Задача №5. https://leetcode.com/problems/merge-two-sorted-lists/description/"
      ],
      "metadata": {
        "id": "VAb3rz-YR5Wy"
      }
    },
    {
      "cell_type": "code",
      "source": [
        "# Definition for singly-linked list.\n",
        "# class ListNode(object):\n",
        "#     def __init__(self, val=0, next=None):\n",
        "#         self.val = val\n",
        "#         self.next = next\n",
        "class Solution(object):\n",
        "    def mergeTwoLists(self, list1, list2):\n",
        "        \"\"\"\n",
        "        :type list1: Optional[ListNode]\n",
        "        :type list2: Optional[ListNode]\n",
        "        :rtype: Optional[ListNode]\n",
        "        \"\"\"\n",
        "        dummy = ListNode()\n",
        "        current = dummy\n",
        "        while list1 and list2:\n",
        "            if list1.val < list2.val:\n",
        "                current.next = list1\n",
        "                list1 = list1.next\n",
        "            else:\n",
        "                current.next = list2\n",
        "                list2 = list2.next\n",
        "            current = current.next\n",
        "        current.next = list1 if list1 else list2\n",
        "\n",
        "        return dummy.next\n"
      ],
      "metadata": {
        "id": "7hwgBuJYR55D"
      },
      "execution_count": null,
      "outputs": []
    },
    {
      "cell_type": "markdown",
      "source": [
        "Задача №6. https://leetcode.com/problems/longest-substring-without-repeating-characters/description/"
      ],
      "metadata": {
        "id": "TKk2Uwv0R6Y5"
      }
    },
    {
      "cell_type": "code",
      "source": [
        "class Solution(object):\n",
        "    def lengthOfLongestSubstring(self, s):\n",
        "        \"\"\"\n",
        "        :type s: str\n",
        "        :rtype: int\n",
        "        \"\"\"\n",
        "        char_index = {}\n",
        "        left = 0\n",
        "        max_length = 0\n",
        "\n",
        "        for right in range(len(s)):\n",
        "            if s[right] in char_index and char_index[s[right]] >= left:\n",
        "                left = char_index[s[right]] + 1\n",
        "            char_index[s[right]] = right\n",
        "            max_length = max(max_length, right - left + 1)\n",
        "\n",
        "        return max_length"
      ],
      "metadata": {
        "id": "nGQWgEiRR684"
      },
      "execution_count": null,
      "outputs": []
    },
    {
      "cell_type": "markdown",
      "source": [
        "Вывод: в ходе выполнения лабораторной работы были изучены основы Python.\n",
        "\n",
        "<div align=\"center\">\n",
        "\n",
        "***Ответы на контрольные вопросы***\n",
        "\n",
        "<div>\n",
        "<div align=\"left\">\n",
        "\n",
        "1. Что такое динамическая типизация и чем она отличается от статической?\n",
        "<br>\n",
        "Это значит, что переменная не привязана жестко к определенному типу. Отличается тем, что в процессе работы программы мы можем изменить тип переменной, присвоив ей значение другого типа.\n",
        "2. Чем отличается цикл for в Python от цикла for в С++?\n",
        "<br>\n",
        "В Python цикл for перебирает элементы коллекции (списка, строки, диапазона и т.п.), Работает по принципу итерации по объекту, Не нужно явно писать индекс, как часто делают в C++., range() используется, если нужна последовательность чисел (например, для индексов).\n",
        "3. Для чего предназначены операторы continue и break?\n",
        "<br>\n",
        "Для управления циклом мы можем использовать специальные операторы break и continue. Оператор break осуществляет выход из цикла. А оператор continue выполняет переход к следующей итерации цикла.\n",
        "4. Как определить функцию в python? Может ли функция возвращать несколько значений?\n",
        "<br>\n",
        "def имя_функции ([параметры]):<br> Да, функция может возвращать несколько значений\n",
        "5. Что такое лямбда функции и для чего они предназначены?\n",
        "<br>\n",
        "Лямбда-функции в Python — это анонимные функции, которые можно определить без имени. Они часто используются для создания небольших функций, где не требуется полноценное объявление функции через def\n",
        "6. Может ли тело функции содержать определение другой функции?\n",
        "<br>\n",
        "Да, тело функции может содержать определение другой функции. Это называется вложенной функцией\n",
        "7. Как определить класс в python? Для чего нужна переменная self?\n",
        "<br>\n",
        "class MyClass: тело, self — это ссылка на сам объект, создаваемый классом. Он используется для доступа к атрибутам и методам внутри класса.\n",
        "8. Как определить приватный метод? Можно ли вызвать приватный метод за пределами класса?\n",
        "<br>\n",
        "Приватные методы в Python определяются с двойным подчеркиванием (__).\n",
        "Можно обратиться к приватным методам и атрибутам извне, но это не рекомендуется, так как нарушает инкапсуляцию.\n",
        "9. Как определить статический метод класса? Для чего может понадобиться статический метод?\n",
        "<br>\n",
        "Статический метод в Python определяется с помощью декоратора @staticmethod.\n",
        "Малые утилитарные функции. Снижение зависимости от экземпляра. Упрощение кода и улучшение структуры.Функции, связанные с классом, но не изменяющие его состояние.\n",
        "10. Чем staticmethod отличается от classmethod?\n",
        "<br>\n",
        "Первый аргумент\tНет self или cls — обычные параметры.\tcls — ссылка на сам класс.\n",
        "Доступ к данным\tНет доступа к атрибутам класса или экземпляра.\tДоступ к атрибутам и методам класса.\n",
        "Когда использовать\tКогда метод не зависит от состояния класса и экземпляра, а выполняет операцию, связанную с классом.\tКогда нужно работать с состоянием самого класса, а не с экземплярами.\n",
        "Типичный пример\tУтилитарные функции, которые не изменяют состояние класса или экземпляра.\tМетоды, работающие с состоянием класса, например, альтернативные конструкторы.\n",
        "Вызов метода\tМожно вызвать как через класс, так и через экземпляр.\tМожно вызвать как через класс, так и через экземпляр, но метод всегда работает с классом.\n",
        "11. Как определить собственный класс исключений Python? Как выбросить и перехватить исключение?\n",
        "<br>\n",
        "class MyCustomError(Exception):\n",
        "   def __init__(self, message, code):\n",
        "Чтобы перехватить исключение, используется блок try-except. В нем можно указать тип исключения, который нужно перехватить.\n",
        "12. Что такое картеж, для чего он используется?\n",
        "<br>\n",
        "Кортеж (tuple) представляет последовательность элементов, которая во многом похожа на список за тем исключением, что кортеж является неизменяемым (immutable) типом.\n",
        "<div>"
      ],
      "metadata": {
        "id": "mqXr7i9nTjQn"
      }
    }
  ]
}